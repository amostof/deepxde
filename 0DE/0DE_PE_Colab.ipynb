{
  "nbformat": 4,
  "nbformat_minor": 0,
  "metadata": {
    "orig_nbformat": 2,
    "colab": {
      "name": "0DE_PE_Colab.ipynb",
      "provenance": [],
      "collapsed_sections": [],
      "include_colab_link": true
    },
    "kernelspec": {
      "name": "python3",
      "display_name": "Python 3"
    }
  },
  "cells": [
    {
      "cell_type": "markdown",
      "metadata": {
        "id": "view-in-github",
        "colab_type": "text"
      },
      "source": [
        "<a href=\"https://colab.research.google.com/github/amostof/deepxde/blob/master/0DE/0DE_PE_Colab.ipynb\" target=\"_parent\"><img src=\"https://colab.research.google.com/assets/colab-badge.svg\" alt=\"Open In Colab\"/></a>"
      ]
    },
    {
      "cell_type": "markdown",
      "metadata": {
        "id": "CkRhl-XghLCF"
      },
      "source": [
        "Install packages (run only once in the runtime)"
      ]
    },
    {
      "cell_type": "code",
      "metadata": {
        "id": "zvbSafs1hKnd",
        "colab": {
          "base_uri": "https://localhost:8080/"
        },
        "outputId": "d1a80a3d-ae95-4dfa-eecb-505b14b92c17"
      },
      "source": [
        "!pip install deepxde"
      ],
      "execution_count": 1,
      "outputs": [
        {
          "output_type": "stream",
          "text": [
            "Collecting deepxde\n",
            "\u001b[?25l  Downloading https://files.pythonhosted.org/packages/42/a1/dfa3a829bc691a04e9da510586acdb69cce8d0ecff4984c7b003e70408f5/DeepXDE-0.10.0-py3-none-any.whl (73kB)\n",
            "\r\u001b[K     |████▌                           | 10kB 15.3MB/s eta 0:00:01\r\u001b[K     |█████████                       | 20kB 10.7MB/s eta 0:00:01\r\u001b[K     |█████████████▍                  | 30kB 8.7MB/s eta 0:00:01\r\u001b[K     |█████████████████▉              | 40kB 7.8MB/s eta 0:00:01\r\u001b[K     |██████████████████████▍         | 51kB 4.4MB/s eta 0:00:01\r\u001b[K     |██████████████████████████▉     | 61kB 5.0MB/s eta 0:00:01\r\u001b[K     |███████████████████████████████▎| 71kB 5.0MB/s eta 0:00:01\r\u001b[K     |████████████████████████████████| 81kB 3.6MB/s \n",
            "\u001b[?25hRequirement already satisfied: scipy in /usr/local/lib/python3.7/dist-packages (from deepxde) (1.4.1)\n",
            "Requirement already satisfied: numpy in /usr/local/lib/python3.7/dist-packages (from deepxde) (1.19.5)\n",
            "Collecting salib\n",
            "\u001b[?25l  Downloading https://files.pythonhosted.org/packages/ba/36/84735444f4faded327e1158ed15228a3ff57268f351c799f0038ee68b53f/SALib-1.3.12.tar.gz (855kB)\n",
            "\u001b[K     |████████████████████████████████| 860kB 8.2MB/s \n",
            "\u001b[?25hRequirement already satisfied: tensorflow>=2.2.0 in /usr/local/lib/python3.7/dist-packages (from deepxde) (2.4.1)\n",
            "Requirement already satisfied: scikit-learn in /usr/local/lib/python3.7/dist-packages (from deepxde) (0.22.2.post1)\n",
            "Requirement already satisfied: matplotlib in /usr/local/lib/python3.7/dist-packages (from deepxde) (3.2.2)\n",
            "Requirement already satisfied: pandas in /usr/local/lib/python3.7/dist-packages (from salib->deepxde) (1.1.5)\n",
            "Requirement already satisfied: flatbuffers~=1.12.0 in /usr/local/lib/python3.7/dist-packages (from tensorflow>=2.2.0->deepxde) (1.12)\n",
            "Requirement already satisfied: wrapt~=1.12.1 in /usr/local/lib/python3.7/dist-packages (from tensorflow>=2.2.0->deepxde) (1.12.1)\n",
            "Requirement already satisfied: grpcio~=1.32.0 in /usr/local/lib/python3.7/dist-packages (from tensorflow>=2.2.0->deepxde) (1.32.0)\n",
            "Requirement already satisfied: tensorboard~=2.4 in /usr/local/lib/python3.7/dist-packages (from tensorflow>=2.2.0->deepxde) (2.4.1)\n",
            "Requirement already satisfied: opt-einsum~=3.3.0 in /usr/local/lib/python3.7/dist-packages (from tensorflow>=2.2.0->deepxde) (3.3.0)\n",
            "Requirement already satisfied: tensorflow-estimator<2.5.0,>=2.4.0 in /usr/local/lib/python3.7/dist-packages (from tensorflow>=2.2.0->deepxde) (2.4.0)\n",
            "Requirement already satisfied: gast==0.3.3 in /usr/local/lib/python3.7/dist-packages (from tensorflow>=2.2.0->deepxde) (0.3.3)\n",
            "Requirement already satisfied: absl-py~=0.10 in /usr/local/lib/python3.7/dist-packages (from tensorflow>=2.2.0->deepxde) (0.10.0)\n",
            "Requirement already satisfied: wheel~=0.35 in /usr/local/lib/python3.7/dist-packages (from tensorflow>=2.2.0->deepxde) (0.36.2)\n",
            "Requirement already satisfied: google-pasta~=0.2 in /usr/local/lib/python3.7/dist-packages (from tensorflow>=2.2.0->deepxde) (0.2.0)\n",
            "Requirement already satisfied: keras-preprocessing~=1.1.2 in /usr/local/lib/python3.7/dist-packages (from tensorflow>=2.2.0->deepxde) (1.1.2)\n",
            "Requirement already satisfied: protobuf>=3.9.2 in /usr/local/lib/python3.7/dist-packages (from tensorflow>=2.2.0->deepxde) (3.12.4)\n",
            "Requirement already satisfied: typing-extensions~=3.7.4 in /usr/local/lib/python3.7/dist-packages (from tensorflow>=2.2.0->deepxde) (3.7.4.3)\n",
            "Requirement already satisfied: six~=1.15.0 in /usr/local/lib/python3.7/dist-packages (from tensorflow>=2.2.0->deepxde) (1.15.0)\n",
            "Requirement already satisfied: astunparse~=1.6.3 in /usr/local/lib/python3.7/dist-packages (from tensorflow>=2.2.0->deepxde) (1.6.3)\n",
            "Requirement already satisfied: h5py~=2.10.0 in /usr/local/lib/python3.7/dist-packages (from tensorflow>=2.2.0->deepxde) (2.10.0)\n",
            "Requirement already satisfied: termcolor~=1.1.0 in /usr/local/lib/python3.7/dist-packages (from tensorflow>=2.2.0->deepxde) (1.1.0)\n",
            "Requirement already satisfied: joblib>=0.11 in /usr/local/lib/python3.7/dist-packages (from scikit-learn->deepxde) (1.0.1)\n",
            "Requirement already satisfied: kiwisolver>=1.0.1 in /usr/local/lib/python3.7/dist-packages (from matplotlib->deepxde) (1.3.1)\n",
            "Requirement already satisfied: python-dateutil>=2.1 in /usr/local/lib/python3.7/dist-packages (from matplotlib->deepxde) (2.8.1)\n",
            "Requirement already satisfied: pyparsing!=2.0.4,!=2.1.2,!=2.1.6,>=2.0.1 in /usr/local/lib/python3.7/dist-packages (from matplotlib->deepxde) (2.4.7)\n",
            "Requirement already satisfied: cycler>=0.10 in /usr/local/lib/python3.7/dist-packages (from matplotlib->deepxde) (0.10.0)\n",
            "Requirement already satisfied: pytz>=2017.2 in /usr/local/lib/python3.7/dist-packages (from pandas->salib->deepxde) (2018.9)\n",
            "Requirement already satisfied: google-auth-oauthlib<0.5,>=0.4.1 in /usr/local/lib/python3.7/dist-packages (from tensorboard~=2.4->tensorflow>=2.2.0->deepxde) (0.4.3)\n",
            "Requirement already satisfied: werkzeug>=0.11.15 in /usr/local/lib/python3.7/dist-packages (from tensorboard~=2.4->tensorflow>=2.2.0->deepxde) (1.0.1)\n",
            "Requirement already satisfied: markdown>=2.6.8 in /usr/local/lib/python3.7/dist-packages (from tensorboard~=2.4->tensorflow>=2.2.0->deepxde) (3.3.4)\n",
            "Requirement already satisfied: setuptools>=41.0.0 in /usr/local/lib/python3.7/dist-packages (from tensorboard~=2.4->tensorflow>=2.2.0->deepxde) (54.0.0)\n",
            "Requirement already satisfied: tensorboard-plugin-wit>=1.6.0 in /usr/local/lib/python3.7/dist-packages (from tensorboard~=2.4->tensorflow>=2.2.0->deepxde) (1.8.0)\n",
            "Requirement already satisfied: requests<3,>=2.21.0 in /usr/local/lib/python3.7/dist-packages (from tensorboard~=2.4->tensorflow>=2.2.0->deepxde) (2.23.0)\n",
            "Requirement already satisfied: google-auth<2,>=1.6.3 in /usr/local/lib/python3.7/dist-packages (from tensorboard~=2.4->tensorflow>=2.2.0->deepxde) (1.27.1)\n",
            "Requirement already satisfied: requests-oauthlib>=0.7.0 in /usr/local/lib/python3.7/dist-packages (from google-auth-oauthlib<0.5,>=0.4.1->tensorboard~=2.4->tensorflow>=2.2.0->deepxde) (1.3.0)\n",
            "Requirement already satisfied: importlib-metadata; python_version < \"3.8\" in /usr/local/lib/python3.7/dist-packages (from markdown>=2.6.8->tensorboard~=2.4->tensorflow>=2.2.0->deepxde) (3.7.0)\n",
            "Requirement already satisfied: urllib3!=1.25.0,!=1.25.1,<1.26,>=1.21.1 in /usr/local/lib/python3.7/dist-packages (from requests<3,>=2.21.0->tensorboard~=2.4->tensorflow>=2.2.0->deepxde) (1.24.3)\n",
            "Requirement already satisfied: chardet<4,>=3.0.2 in /usr/local/lib/python3.7/dist-packages (from requests<3,>=2.21.0->tensorboard~=2.4->tensorflow>=2.2.0->deepxde) (3.0.4)\n",
            "Requirement already satisfied: idna<3,>=2.5 in /usr/local/lib/python3.7/dist-packages (from requests<3,>=2.21.0->tensorboard~=2.4->tensorflow>=2.2.0->deepxde) (2.10)\n",
            "Requirement already satisfied: certifi>=2017.4.17 in /usr/local/lib/python3.7/dist-packages (from requests<3,>=2.21.0->tensorboard~=2.4->tensorflow>=2.2.0->deepxde) (2020.12.5)\n",
            "Requirement already satisfied: pyasn1-modules>=0.2.1 in /usr/local/lib/python3.7/dist-packages (from google-auth<2,>=1.6.3->tensorboard~=2.4->tensorflow>=2.2.0->deepxde) (0.2.8)\n",
            "Requirement already satisfied: rsa<5,>=3.1.4; python_version >= \"3.6\" in /usr/local/lib/python3.7/dist-packages (from google-auth<2,>=1.6.3->tensorboard~=2.4->tensorflow>=2.2.0->deepxde) (4.7.2)\n",
            "Requirement already satisfied: cachetools<5.0,>=2.0.0 in /usr/local/lib/python3.7/dist-packages (from google-auth<2,>=1.6.3->tensorboard~=2.4->tensorflow>=2.2.0->deepxde) (4.2.1)\n",
            "Requirement already satisfied: oauthlib>=3.0.0 in /usr/local/lib/python3.7/dist-packages (from requests-oauthlib>=0.7.0->google-auth-oauthlib<0.5,>=0.4.1->tensorboard~=2.4->tensorflow>=2.2.0->deepxde) (3.1.0)\n",
            "Requirement already satisfied: zipp>=0.5 in /usr/local/lib/python3.7/dist-packages (from importlib-metadata; python_version < \"3.8\"->markdown>=2.6.8->tensorboard~=2.4->tensorflow>=2.2.0->deepxde) (3.4.1)\n",
            "Requirement already satisfied: pyasn1<0.5.0,>=0.4.6 in /usr/local/lib/python3.7/dist-packages (from pyasn1-modules>=0.2.1->google-auth<2,>=1.6.3->tensorboard~=2.4->tensorflow>=2.2.0->deepxde) (0.4.8)\n",
            "Building wheels for collected packages: salib\n",
            "  Building wheel for salib (setup.py) ... \u001b[?25l\u001b[?25hdone\n",
            "  Created wheel for salib: filename=SALib-1.3.12-py2.py3-none-any.whl size=729049 sha256=c56c218fb25078162b3170eb9671726427f81c6bd17077e6e7734fefd14ffa48\n",
            "  Stored in directory: /root/.cache/pip/wheels/04/5c/9f/09d58ab84d5a7ef7d2e5fedc5cd2f46a64a77c99035571aa0c\n",
            "Successfully built salib\n",
            "Installing collected packages: salib, deepxde\n",
            "Successfully installed deepxde-0.10.0 salib-1.3.12\n"
          ],
          "name": "stdout"
        }
      ]
    },
    {
      "cell_type": "markdown",
      "metadata": {
        "id": "1sfGVj1Zg63V"
      },
      "source": [
        "Imports and functions"
      ]
    },
    {
      "cell_type": "code",
      "metadata": {
        "id": "eyuhFn4fgkld",
        "colab": {
          "base_uri": "https://localhost:8080/"
        },
        "outputId": "f7526d9e-a2a8-4ba6-d0a9-19ac77ccdc72"
      },
      "source": [
        "from __future__ import absolute_import\n",
        "from __future__ import division\n",
        "from __future__ import print_function\n",
        "\n",
        "import io\n",
        "import re\n",
        "\n",
        "import matplotlib.pyplot as plt\n",
        "import numpy as np\n",
        "import requests\n",
        "\n",
        "import deepxde as dde\n",
        "from deepxde.backend import tf\n",
        "\n",
        "\n",
        "# get training data\n",
        "def gen_traindata():\n",
        "    response = requests.get('https://github.com/lululxvi/deepxde/raw/master/examples/dataset/Lorenz.npz')\n",
        "    response.raise_for_status()\n",
        "    data = np.load(io.BytesIO(response.content))\n",
        "    return data[\"t\"], data[\"y\"]\n",
        "\n",
        "# parameters to be identified\n",
        "C1 = tf.Variable(1.0)\n",
        "C2 = tf.Variable(1.0)\n",
        "C3 = tf.Variable(1.0)\n",
        "\n",
        "# true values, see p. 15 in https://arxiv.org/abs/1907.04502\n",
        "C1true = 10\n",
        "C2true = 15\n",
        "C3true = 8/3\n",
        "\n",
        "# define system ODEs\n",
        "def Lorenz_system(x, y):\n",
        "    \"\"\"Lorenz system.\n",
        "    dy1/dx = 10 * (y2 - y1)\n",
        "    dy2/dx = y1 * (28 - y3) - y2\n",
        "    dy3/dx = y1 * y2 - 8/3 * y3\n",
        "    \"\"\"\n",
        "    y1, y2, y3 = y[:, 0:1], y[:, 1:2], y[:, 2:]\n",
        "    dy1_x = dde.grad.jacobian(y, x, i=0)\n",
        "    dy2_x = dde.grad.jacobian(y, x, i=1)\n",
        "    dy3_x = dde.grad.jacobian(y, x, i=2)\n",
        "    return [\n",
        "        dy1_x - C1 * (y2 - y1),\n",
        "        dy2_x - y1 * (C2 - y3) + y2,\n",
        "        dy3_x - y1 * y2 + C3 * y3,\n",
        "    ]\n",
        "\n",
        "def boundary(_, on_initial):\n",
        "    return on_initial"
      ],
      "execution_count": 2,
      "outputs": [
        {
          "output_type": "stream",
          "text": [
            "Using TensorFlow 2 backend.\n",
            "\n",
            "WARNING:tensorflow:From /usr/local/lib/python3.7/dist-packages/tensorflow/python/compat/v2_compat.py:96: disable_resource_variables (from tensorflow.python.ops.variable_scope) is deprecated and will be removed in a future version.\n",
            "Instructions for updating:\n",
            "non-resource variables are not supported in the long term\n"
          ],
          "name": "stdout"
        }
      ]
    },
    {
      "cell_type": "markdown",
      "metadata": {
        "id": "c8yTpgeIgpEa"
      },
      "source": [
        "Define data and BCs"
      ]
    },
    {
      "cell_type": "code",
      "metadata": {
        "id": "V5GUlQ_4goNr",
        "colab": {
          "base_uri": "https://localhost:8080/",
          "height": 295
        },
        "outputId": "d9f04fd4-1733-488e-c78c-f8a8e90f58ae"
      },
      "source": [
        "# define time domain\n",
        "geom = dde.geometry.TimeDomain(0, 3)\n",
        "\n",
        "# Initial conditions\n",
        "ic1 = dde.IC(geom, lambda X: -8, boundary, component=0)\n",
        "ic2 = dde.IC(geom, lambda X: 7, boundary, component=1)\n",
        "ic3 = dde.IC(geom, lambda X: 27, boundary, component=2)\n",
        "\n",
        "# Get the training data\n",
        "observe_t, ob_y = gen_traindata()\n",
        "observe_y0 = dde.PointSetBC(observe_t, ob_y[:, 0:1], component=0)\n",
        "observe_y1 = dde.PointSetBC(observe_t, ob_y[:, 1:2], component=1)\n",
        "observe_y2 = dde.PointSetBC(observe_t, ob_y[:, 2:3], component=2)\n",
        "\n",
        "# define data object\n",
        "data = dde.data.PDE(\n",
        "    geom,\n",
        "    Lorenz_system,\n",
        "    [ic1, ic2, ic3, observe_y0, observe_y1, observe_y2],\n",
        "    num_domain=400,\n",
        "    num_boundary=2,\n",
        "    anchors=observe_t,\n",
        ")\n",
        "\n",
        "plt.plot(observe_t, ob_y)\n",
        "plt.xlabel('Time')\n",
        "plt.legend(['x','y','z'])\n",
        "plt.title('Training data')\n",
        "plt.show()\n"
      ],
      "execution_count": 3,
      "outputs": [
        {
          "output_type": "display_data",
          "data": {
            "image/png": "[encoded data removed]",
            "text/plain": [
              "<Figure size 432x288 with 1 Axes>"
            ]
          },
          "metadata": {
            "tags": [],
            "needs_background": "light"
          }
        }
      ]
    },
    {
      "cell_type": "markdown",
      "metadata": {
        "id": "qeuWXbSE4SZi"
      },
      "source": [
        "Train network"
      ]
    },
    {
      "cell_type": "code",
      "metadata": {
        "id": "usZzo2ylv4UA",
        "colab": {
          "base_uri": "https://localhost:8080/"
        },
        "outputId": "da290ede-daf9-491a-f8f3-c94ac36509ef"
      },
      "source": [
        "# define FNN architecture and compile\n",
        "net = dde.maps.FNN([1] + [40] * 3 + [3], \"tanh\", \"Glorot uniform\")\n",
        "model = dde.Model(data, net)\n",
        "model.compile(\"adam\", lr=0.001)\n",
        "\n",
        "# callbacks for storing results\n",
        "fnamevar = \"variables.dat\"\n",
        "variable = dde.callbacks.VariableValue(\n",
        "    [C1, C2, C3], \n",
        "    period=1,\n",
        "    filename=fnamevar\n",
        ")\n",
        "\n",
        "losshistory, train_state = model.train(epochs=60000, callbacks=[variable])"
      ],
      "execution_count": 4,
      "outputs": [
        {
          "output_type": "stream",
          "text": [
            "Compiling model...\n",
            "Building feed-forward neural network...\n",
            "'build' took 0.074082 s\n",
            "\n"
          ],
          "name": "stdout"
        },
        {
          "output_type": "stream",
          "text": [
            "/usr/local/lib/python3.7/dist-packages/tensorflow/python/keras/legacy_tf_layers/core.py:171: UserWarning: `tf.layers.dense` is deprecated and will be removed in a future version. Please use `tf.keras.layers.Dense` instead.\n",
            "  warnings.warn('`tf.layers.dense` is deprecated and '\n",
            "/usr/local/lib/python3.7/dist-packages/tensorflow/python/keras/engine/base_layer_v1.py:1719: UserWarning: `layer.apply` is deprecated and will be removed in a future version. Please use `layer.__call__` method instead.\n",
            "  warnings.warn('`layer.apply` is deprecated and '\n"
          ],
          "name": "stderr"
        },
        {
          "output_type": "stream",
          "text": [
            "'compile' took 0.955325 s\n",
            "\n",
            "Initializing variables...\n",
            "Training model...\n",
            "\n",
            "Step      Train loss                                                                                    Test loss                                                                                     Test metric\n",
            "0         [1.05e-01, 1.85e-01, 4.07e-03, 6.40e+01, 4.90e+01, 7.29e+02, 3.47e+01, 4.28e+01, 2.58e+02]    [1.05e-01, 1.85e-01, 4.07e-03, 0.00e+00, 0.00e+00, 0.00e+00, 0.00e+00, 0.00e+00, 0.00e+00]    []  \n",
            "1000      [5.77e+00, 3.11e+00, 3.15e+00, 3.23e+01, 8.30e-04, 1.85e+00, 3.31e+01, 7.08e+00, 1.04e+01]    [5.77e+00, 3.11e+00, 3.15e+00, 0.00e+00, 0.00e+00, 0.00e+00, 0.00e+00, 0.00e+00, 0.00e+00]    []  \n",
            "2000      [9.19e+00, 2.02e+00, 1.34e+00, 1.78e+01, 3.13e-01, 1.61e+00, 3.29e+01, 1.42e+01, 4.91e+00]    [9.19e+00, 2.02e+00, 1.34e+00, 0.00e+00, 0.00e+00, 0.00e+00, 0.00e+00, 0.00e+00, 0.00e+00]    []  \n",
            "3000      [8.76e+00, 1.94e+00, 9.18e-01, 1.37e+01, 3.88e-01, 1.48e+00, 3.29e+01, 1.81e+01, 2.98e+00]    [8.76e+00, 1.94e+00, 9.18e-01, 0.00e+00, 0.00e+00, 0.00e+00, 0.00e+00, 0.00e+00, 0.00e+00]    []  \n",
            "4000      [8.46e+00, 2.07e+00, 7.52e-01, 1.17e+01, 3.85e-01, 1.37e+00, 3.26e+01, 1.91e+01, 2.44e+00]    [8.46e+00, 2.07e+00, 7.52e-01, 0.00e+00, 0.00e+00, 0.00e+00, 0.00e+00, 0.00e+00, 0.00e+00]    []  \n",
            "5000      [8.10e+00, 2.22e+00, 5.88e-01, 9.78e+00, 3.72e-01, 1.27e+00, 3.24e+01, 1.99e+01, 1.96e+00]    [8.10e+00, 2.22e+00, 5.88e-01, 0.00e+00, 0.00e+00, 0.00e+00, 0.00e+00, 0.00e+00, 0.00e+00]    []  \n",
            "6000      [7.71e+00, 2.42e+00, 4.60e-01, 8.50e+00, 3.55e-01, 1.16e+00, 3.22e+01, 1.99e+01, 1.75e+00]    [7.71e+00, 2.42e+00, 4.60e-01, 0.00e+00, 0.00e+00, 0.00e+00, 0.00e+00, 0.00e+00, 0.00e+00]    []  \n",
            "7000      [7.16e+00, 2.75e+00, 3.64e-01, 7.16e+00, 3.39e-01, 1.02e+00, 3.15e+01, 2.00e+01, 1.71e+00]    [7.16e+00, 2.75e+00, 3.64e-01, 0.00e+00, 0.00e+00, 0.00e+00, 0.00e+00, 0.00e+00, 0.00e+00]    []  \n",
            "8000      [3.63e+00, 4.17e+00, 1.11e+00, 5.44e+00, 4.10e-01, 7.29e-01, 2.01e+01, 1.75e+01, 1.08e+01]    [3.63e+00, 4.17e+00, 1.11e+00, 0.00e+00, 0.00e+00, 0.00e+00, 0.00e+00, 0.00e+00, 0.00e+00]    []  \n",
            "9000      [7.58e-01, 1.67e+00, 5.06e-01, 1.65e+00, 2.70e-01, 4.00e-02, 4.99e+00, 4.76e+00, 1.16e+01]    [7.58e-01, 1.67e+00, 5.06e-01, 0.00e+00, 0.00e+00, 0.00e+00, 0.00e+00, 0.00e+00, 0.00e+00]    []  \n",
            "10000     [3.51e-01, 7.66e-01, 2.82e-01, 8.19e-01, 8.92e-02, 3.36e-03, 2.25e+00, 2.18e+00, 7.81e+00]    [3.51e-01, 7.66e-01, 2.82e-01, 0.00e+00, 0.00e+00, 0.00e+00, 0.00e+00, 0.00e+00, 0.00e+00]    []  \n",
            "11000     [2.01e-01, 4.59e-01, 2.23e-01, 4.29e-01, 3.44e-02, 1.76e-02, 1.32e+00, 1.33e+00, 4.95e+00]    [2.01e-01, 4.59e-01, 2.23e-01, 0.00e+00, 0.00e+00, 0.00e+00, 0.00e+00, 0.00e+00, 0.00e+00]    []  \n",
            "12000     [1.60e-01, 2.85e-01, 1.74e-01, 2.61e-01, 1.38e-02, 2.00e-02, 8.49e-01, 8.43e-01, 2.80e+00]    [1.60e-01, 2.85e-01, 1.74e-01, 0.00e+00, 0.00e+00, 0.00e+00, 0.00e+00, 0.00e+00, 0.00e+00]    []  \n",
            "13000     [8.95e-02, 2.00e-01, 1.42e-01, 1.35e-01, 6.04e-03, 1.95e-02, 5.40e-01, 5.20e-01, 1.37e+00]    [8.95e-02, 2.00e-01, 1.42e-01, 0.00e+00, 0.00e+00, 0.00e+00, 0.00e+00, 0.00e+00, 0.00e+00]    []  \n",
            "14000     [5.51e-02, 1.38e-01, 1.10e-01, 6.95e-02, 2.46e-03, 1.33e-02, 3.39e-01, 3.23e-01, 6.23e-01]    [5.51e-02, 1.38e-01, 1.10e-01, 0.00e+00, 0.00e+00, 0.00e+00, 0.00e+00, 0.00e+00, 0.00e+00]    []  \n",
            "15000     [4.07e-02, 1.01e-01, 9.33e-02, 3.31e-02, 1.39e-03, 6.77e-03, 2.07e-01, 1.98e-01, 3.02e-01]    [4.07e-02, 1.01e-01, 9.33e-02, 0.00e+00, 0.00e+00, 0.00e+00, 0.00e+00, 0.00e+00, 0.00e+00]    []  \n",
            "16000     [3.29e-02, 8.78e-02, 7.41e-02, 1.43e-02, 9.55e-04, 2.74e-03, 1.20e-01, 1.20e-01, 1.69e-01]    [3.29e-02, 8.78e-02, 7.41e-02, 0.00e+00, 0.00e+00, 0.00e+00, 0.00e+00, 0.00e+00, 0.00e+00]    []  \n",
            "17000     [2.05e-02, 8.41e-02, 6.37e-02, 4.35e-03, 6.35e-04, 1.24e-03, 6.60e-02, 6.94e-02, 9.90e-02]    [2.05e-02, 8.41e-02, 6.37e-02, 0.00e+00, 0.00e+00, 0.00e+00, 0.00e+00, 0.00e+00, 0.00e+00]    []  \n",
            "18000     [1.73e-02, 7.51e-02, 4.67e-02, 1.68e-03, 4.17e-04, 1.17e-04, 3.48e-02, 4.02e-02, 5.90e-02]    [1.73e-02, 7.51e-02, 4.67e-02, 0.00e+00, 0.00e+00, 0.00e+00, 0.00e+00, 0.00e+00, 0.00e+00]    []  \n",
            "19000     [1.41e-02, 6.41e-02, 3.98e-02, 5.33e-04, 2.90e-04, 2.70e-06, 1.94e-02, 2.40e-02, 3.62e-02]    [1.41e-02, 6.41e-02, 3.98e-02, 0.00e+00, 0.00e+00, 0.00e+00, 0.00e+00, 0.00e+00, 0.00e+00]    []  \n",
            "20000     [1.24e-02, 5.00e-02, 3.42e-02, 1.77e-04, 1.97e-04, 2.06e-06, 1.13e-02, 1.47e-02, 2.26e-02]    [1.24e-02, 5.00e-02, 3.42e-02, 0.00e+00, 0.00e+00, 0.00e+00, 0.00e+00, 0.00e+00, 0.00e+00]    []  \n",
            "21000     [1.21e-02, 3.79e-02, 2.98e-02, 9.11e-05, 1.47e-04, 7.82e-06, 7.21e-03, 9.54e-03, 1.49e-02]    [1.21e-02, 3.79e-02, 2.98e-02, 0.00e+00, 0.00e+00, 0.00e+00, 0.00e+00, 0.00e+00, 0.00e+00]    []  \n",
            "22000     [1.26e-02, 2.98e-02, 2.61e-02, 6.90e-05, 1.41e-04, 1.02e-05, 4.97e-03, 6.58e-03, 1.05e-02]    [1.26e-02, 2.98e-02, 2.61e-02, 0.00e+00, 0.00e+00, 0.00e+00, 0.00e+00, 0.00e+00, 0.00e+00]    []  \n",
            "23000     [1.20e-02, 2.41e-02, 2.25e-02, 4.63e-05, 9.71e-05, 5.85e-06, 3.65e-03, 4.82e-03, 7.83e-03]    [1.20e-02, 2.41e-02, 2.25e-02, 0.00e+00, 0.00e+00, 0.00e+00, 0.00e+00, 0.00e+00, 0.00e+00]    []  \n",
            "24000     [1.17e-02, 2.06e-02, 1.97e-02, 2.70e-05, 9.36e-05, 9.76e-07, 2.88e-03, 3.79e-03, 6.20e-03]    [1.17e-02, 2.06e-02, 1.97e-02, 0.00e+00, 0.00e+00, 0.00e+00, 0.00e+00, 0.00e+00, 0.00e+00]    []  \n",
            "25000     [1.13e-02, 1.81e-02, 1.75e-02, 3.65e-05, 7.38e-05, 4.89e-06, 2.30e-03, 3.04e-03, 5.03e-03]    [1.13e-02, 1.81e-02, 1.75e-02, 0.00e+00, 0.00e+00, 0.00e+00, 0.00e+00, 0.00e+00, 0.00e+00]    []  \n",
            "26000     [1.08e-02, 1.63e-02, 1.55e-02, 2.75e-05, 6.45e-05, 2.40e-06, 1.92e-03, 2.53e-03, 4.20e-03]    [1.08e-02, 1.63e-02, 1.55e-02, 0.00e+00, 0.00e+00, 0.00e+00, 0.00e+00, 0.00e+00, 0.00e+00]    []  \n",
            "27000     [1.03e-02, 1.49e-02, 1.38e-02, 2.43e-05, 5.63e-05, 2.02e-06, 1.62e-03, 2.13e-03, 3.56e-03]    [1.03e-02, 1.49e-02, 1.38e-02, 0.00e+00, 0.00e+00, 0.00e+00, 0.00e+00, 0.00e+00, 0.00e+00]    []  \n",
            "28000     [9.85e-03, 1.37e-02, 1.24e-02, 2.42e-05, 5.14e-05, 2.79e-06, 1.38e-03, 1.82e-03, 3.07e-03]    [9.85e-03, 1.37e-02, 1.24e-02, 0.00e+00, 0.00e+00, 0.00e+00, 0.00e+00, 0.00e+00, 0.00e+00]    []  \n",
            "29000     [1.44e-02, 1.49e-02, 3.10e-02, 6.74e-05, 4.38e-05, 9.20e-06, 1.27e-03, 1.94e-03, 2.81e-03]    [1.44e-02, 1.49e-02, 3.10e-02, 0.00e+00, 0.00e+00, 0.00e+00, 0.00e+00, 0.00e+00, 0.00e+00]    []  \n",
            "30000     [9.00e-03, 1.18e-02, 1.01e-02, 3.38e-05, 3.77e-05, 9.69e-06, 1.05e-03, 1.40e-03, 2.38e-03]    [9.00e-03, 1.18e-02, 1.01e-02, 0.00e+00, 0.00e+00, 0.00e+00, 0.00e+00, 0.00e+00, 0.00e+00]    []  \n",
            "31000     [9.94e-03, 1.22e-02, 1.25e-02, 2.11e-06, 6.69e-05, 4.14e-05, 9.62e-04, 1.32e-03, 2.07e-03]    [9.94e-03, 1.22e-02, 1.25e-02, 0.00e+00, 0.00e+00, 0.00e+00, 0.00e+00, 0.00e+00, 0.00e+00]    []  \n",
            "32000     [8.24e-03, 1.03e-02, 8.29e-03, 1.65e-05, 3.61e-05, 1.69e-06, 8.23e-04, 1.09e-03, 1.86e-03]    [8.24e-03, 1.03e-02, 8.29e-03, 0.00e+00, 0.00e+00, 0.00e+00, 0.00e+00, 0.00e+00, 0.00e+00]    []  \n",
            "33000     [1.33e-02, 1.23e-02, 3.10e-02, 8.00e-05, 4.00e-05, 3.62e-05, 7.82e-04, 1.18e-03, 1.68e-03]    [1.33e-02, 1.23e-02, 3.10e-02, 0.00e+00, 0.00e+00, 0.00e+00, 0.00e+00, 0.00e+00, 0.00e+00]    []  \n",
            "34000     [7.70e-03, 9.21e-03, 7.13e-03, 1.54e-06, 3.31e-05, 2.62e-06, 6.74e-04, 8.80e-04, 1.50e-03]    [7.70e-03, 9.21e-03, 7.13e-03, 0.00e+00, 0.00e+00, 0.00e+00, 0.00e+00, 0.00e+00, 0.00e+00]    []  \n",
            "35000     [7.48e-03, 8.69e-03, 7.28e-03, 2.52e-05, 2.66e-05, 1.19e-05, 5.96e-04, 7.74e-04, 1.40e-03]    [7.48e-03, 8.69e-03, 7.28e-03, 0.00e+00, 0.00e+00, 0.00e+00, 0.00e+00, 0.00e+00, 0.00e+00]    []  \n",
            "36000     [7.02e-03, 8.08e-03, 5.86e-03, 9.05e-06, 2.40e-05, 2.44e-07, 5.29e-04, 6.92e-04, 1.21e-03]    [7.02e-03, 8.08e-03, 5.86e-03, 0.00e+00, 0.00e+00, 0.00e+00, 0.00e+00, 0.00e+00, 0.00e+00]    []  \n",
            "37000     [6.73e-03, 7.70e-03, 5.41e-03, 8.94e-06, 2.28e-05, 4.18e-07, 4.88e-04, 6.34e-04, 1.12e-03]    [6.73e-03, 7.70e-03, 5.41e-03, 0.00e+00, 0.00e+00, 0.00e+00, 0.00e+00, 0.00e+00, 0.00e+00]    []  \n",
            "38000     [6.45e-03, 7.33e-03, 4.98e-03, 7.88e-06, 2.15e-05, 2.37e-07, 4.35e-04, 5.64e-04, 1.00e-03]    [6.45e-03, 7.33e-03, 4.97e-03, 0.00e+00, 0.00e+00, 0.00e+00, 0.00e+00, 0.00e+00, 0.00e+00]    []  \n",
            "39000     [6.17e-03, 7.02e-03, 4.62e-03, 7.33e-06, 2.07e-05, 1.76e-07, 4.03e-04, 5.25e-04, 9.36e-04]    [6.17e-03, 7.02e-03, 4.62e-03, 0.00e+00, 0.00e+00, 0.00e+00, 0.00e+00, 0.00e+00, 0.00e+00]    []  \n",
            "40000     [7.36e-03, 7.50e-03, 1.04e-02, 1.41e-05, 2.66e-05, 2.95e-05, 4.10e-04, 4.97e-04, 8.83e-04]    [7.36e-03, 7.50e-03, 1.04e-02, 0.00e+00, 0.00e+00, 0.00e+00, 0.00e+00, 0.00e+00, 0.00e+00]    []  \n",
            "41000     [5.63e-03, 6.46e-03, 4.03e-03, 1.04e-05, 1.69e-05, 1.28e-06, 3.34e-04, 4.35e-04, 7.91e-04]    [5.63e-03, 6.46e-03, 4.03e-03, 0.00e+00, 0.00e+00, 0.00e+00, 0.00e+00, 0.00e+00, 0.00e+00]    []  \n",
            "42000     [5.37e-03, 6.18e-03, 3.77e-03, 6.01e-06, 1.65e-05, 1.54e-07, 2.98e-04, 3.85e-04, 7.04e-04]    [5.37e-03, 6.18e-03, 3.77e-03, 0.00e+00, 0.00e+00, 0.00e+00, 0.00e+00, 0.00e+00, 0.00e+00]    []  \n",
            "43000     [5.12e-03, 5.94e-03, 3.55e-03, 5.52e-06, 1.55e-05, 1.15e-07, 2.72e-04, 3.52e-04, 6.46e-04]    [5.12e-03, 5.94e-03, 3.55e-03, 0.00e+00, 0.00e+00, 0.00e+00, 0.00e+00, 0.00e+00, 0.00e+00]    []  \n",
            "44000     [4.87e-03, 5.73e-03, 3.36e-03, 4.87e-06, 1.51e-05, 1.00e-07, 2.55e-04, 3.29e-04, 6.11e-04]    [4.87e-03, 5.73e-03, 3.36e-03, 0.00e+00, 0.00e+00, 0.00e+00, 0.00e+00, 0.00e+00, 0.00e+00]    []  \n",
            "45000     [4.64e-03, 5.52e-03, 3.19e-03, 4.77e-06, 1.42e-05, 1.11e-07, 2.34e-04, 3.03e-04, 5.63e-04]    [4.64e-03, 5.52e-03, 3.19e-03, 0.00e+00, 0.00e+00, 0.00e+00, 0.00e+00, 0.00e+00, 0.00e+00]    []  \n",
            "46000     [4.41e-03, 5.31e-03, 3.03e-03, 4.54e-06, 1.33e-05, 1.14e-07, 2.14e-04, 2.77e-04, 5.19e-04]    [4.41e-03, 5.31e-03, 3.03e-03, 0.00e+00, 0.00e+00, 0.00e+00, 0.00e+00, 0.00e+00, 0.00e+00]    []  \n",
            "47000     [4.19e-03, 5.12e-03, 2.89e-03, 4.09e-06, 1.25e-05, 7.75e-08, 1.97e-04, 2.54e-04, 4.79e-04]    [4.19e-03, 5.12e-03, 2.89e-03, 0.00e+00, 0.00e+00, 0.00e+00, 0.00e+00, 0.00e+00, 0.00e+00]    []  \n",
            "48000     [3.99e-03, 4.93e-03, 2.79e-03, 2.95e-06, 1.12e-05, 1.02e-08, 1.81e-04, 2.33e-04, 4.41e-04]    [3.99e-03, 4.93e-03, 2.79e-03, 0.00e+00, 0.00e+00, 0.00e+00, 0.00e+00, 0.00e+00, 0.00e+00]    []  \n",
            "49000     [2.14e-02, 1.42e-02, 6.97e-02, 5.33e-04, 1.06e-05, 3.43e-04, 4.64e-04, 5.54e-04, 6.39e-04]    [2.14e-02, 1.42e-02, 6.97e-02, 0.00e+00, 0.00e+00, 0.00e+00, 0.00e+00, 0.00e+00, 0.00e+00]    []  \n",
            "50000     [3.59e-03, 4.59e-03, 2.54e-03, 3.37e-06, 1.07e-05, 4.56e-08, 1.56e-04, 2.02e-04, 3.86e-04]    [3.59e-03, 4.59e-03, 2.54e-03, 0.00e+00, 0.00e+00, 0.00e+00, 0.00e+00, 0.00e+00, 0.00e+00]    []  \n",
            "51000     [3.41e-03, 4.48e-03, 2.47e-03, 4.90e-07, 1.50e-05, 8.31e-07, 1.52e-04, 1.97e-04, 3.78e-04]    [3.41e-03, 4.48e-03, 2.47e-03, 0.00e+00, 0.00e+00, 0.00e+00, 0.00e+00, 0.00e+00, 0.00e+00]    []  \n",
            "52000     [3.36e-03, 4.38e-03, 2.72e-03, 6.96e-09, 1.01e-05, 1.38e-06, 1.44e-04, 1.84e-04, 3.52e-04]    [3.36e-03, 4.38e-03, 2.72e-03, 0.00e+00, 0.00e+00, 0.00e+00, 0.00e+00, 0.00e+00, 0.00e+00]    []  \n",
            "53000     [3.06e-03, 4.14e-03, 2.29e-03, 3.00e-06, 9.59e-06, 6.34e-08, 1.30e-04, 1.68e-04, 3.27e-04]    [3.06e-03, 4.14e-03, 2.29e-03, 0.00e+00, 0.00e+00, 0.00e+00, 0.00e+00, 0.00e+00, 0.00e+00]    []  \n",
            "54000     [2.90e-03, 3.99e-03, 2.22e-03, 2.50e-06, 8.85e-06, 2.33e-08, 1.18e-04, 1.53e-04, 2.98e-04]    [2.90e-03, 3.99e-03, 2.22e-03, 0.00e+00, 0.00e+00, 0.00e+00, 0.00e+00, 0.00e+00, 0.00e+00]    []  \n",
            "55000     [2.74e-03, 3.86e-03, 2.16e-03, 2.51e-06, 8.38e-06, 4.01e-08, 1.10e-04, 1.43e-04, 2.80e-04]    [2.74e-03, 3.86e-03, 2.16e-03, 0.00e+00, 0.00e+00, 0.00e+00, 0.00e+00, 0.00e+00, 0.00e+00]    []  \n",
            "56000     [2.63e-03, 3.76e-03, 2.28e-03, 2.22e-06, 1.15e-05, 1.06e-08, 1.05e-04, 1.40e-04, 2.70e-04]    [2.63e-03, 3.76e-03, 2.28e-03, 0.00e+00, 0.00e+00, 0.00e+00, 0.00e+00, 0.00e+00, 0.00e+00]    []  \n",
            "57000     [2.72e-03, 3.81e-03, 3.15e-03, 5.76e-06, 1.68e-05, 1.41e-05, 1.07e-04, 1.37e-04, 2.63e-04]    [2.72e-03, 3.81e-03, 3.15e-03, 0.00e+00, 0.00e+00, 0.00e+00, 0.00e+00, 0.00e+00, 0.00e+00]    []  \n",
            "58000     [2.36e-03, 3.48e-03, 2.08e-03, 3.19e-06, 9.51e-06, 1.83e-07, 9.40e-05, 1.19e-04, 2.43e-04]    [2.36e-03, 3.48e-03, 2.08e-03, 0.00e+00, 0.00e+00, 0.00e+00, 0.00e+00, 0.00e+00, 0.00e+00]    []  \n",
            "59000     [2.20e-03, 3.37e-03, 1.98e-03, 1.99e-06, 7.39e-06, 2.33e-08, 8.77e-05, 1.14e-04, 2.27e-04]    [2.20e-03, 3.37e-03, 1.98e-03, 0.00e+00, 0.00e+00, 0.00e+00, 0.00e+00, 0.00e+00, 0.00e+00]    []  \n",
            "60000     [2.98e-03, 4.97e-03, 5.65e-03, 3.66e-05, 4.50e-05, 1.25e-04, 1.13e-04, 1.54e-04, 2.61e-04]    [2.98e-03, 4.97e-03, 5.65e-03, 0.00e+00, 0.00e+00, 0.00e+00, 0.00e+00, 0.00e+00, 0.00e+00]    []  \n",
            "\n",
            "Best model at step 59000:\n",
            "  train loss: 7.99e-03\n",
            "  test loss: 7.55e-03\n",
            "  test metric: []\n",
            "\n",
            "'train' took 192.303116 s\n",
            "\n"
          ],
          "name": "stdout"
        }
      ]
    },
    {
      "cell_type": "markdown",
      "metadata": {
        "id": "eWm5PVlcCz9n"
      },
      "source": [
        " Plot identified parameters"
      ]
    },
    {
      "cell_type": "code",
      "metadata": {
        "id": "hyPBX9r_C0aE",
        "colab": {
          "base_uri": "https://localhost:8080/",
          "height": 279
        },
        "outputId": "b8708323-df0f-4373-fc11-961c82a8a7fd"
      },
      "source": [
        "# reopen saved data using callbacks in fnamevar \n",
        "lines = open(fnamevar, \"r\").readlines()\n",
        "\n",
        "# read output data in fnamevar (this line is a long story...)\n",
        "Chat = np.array([np.fromstring(min(re.findall(re.escape('[')+\"(.*?)\"+re.escape(']'),line), key=len), sep=',') for line in lines])\n",
        "\n",
        "l,c = Chat.shape\n",
        "\n",
        "plt.plot(range(l),Chat[:,0],'r-')\n",
        "plt.plot(range(l),Chat[:,1],'k-')\n",
        "plt.plot(range(l),Chat[:,2],'g-')\n",
        "plt.plot(range(l),np.ones(Chat[:,0].shape)*C1true,'r--')\n",
        "plt.plot(range(l),np.ones(Chat[:,1].shape)*C2true,'k--')\n",
        "plt.plot(range(l),np.ones(Chat[:,2].shape)*C3true,'g--')\n",
        "plt.legend(['C1hat','C2hat','C3hat','True C1','True C2','True C3'],loc = \"right\")\n",
        "plt.xlabel('Epoch')\n",
        "plt.show()"
      ],
      "execution_count": 5,
      "outputs": [
        {
          "output_type": "display_data",
          "data": {
            "image/png": "[encoded data removed]",
            "text/plain": [
              "<Figure size 432x288 with 1 Axes>"
            ]
          },
          "metadata": {
            "tags": [],
            "needs_background": "light"
          }
        }
      ]
    },
    {
      "cell_type": "code",
      "metadata": {
        "id": "2l75q3hu7SSi",
        "colab": {
          "base_uri": "https://localhost:8080/",
          "height": 346
        },
        "outputId": "36a238d1-e469-49b2-d49c-ba953ebd194b"
      },
      "source": [
        "yhat = model.predict(observe_t)\n",
        "\n",
        "plt.plot(observe_t, ob_y,'-',observe_t, yhat,'--')\n",
        "plt.xlabel('Time')\n",
        "plt.legend(['x','y','z','xh','yh','zh'])\n",
        "plt.title('Training data')\n",
        "plt.show()"
      ],
      "execution_count": 6,
      "outputs": [
        {
          "output_type": "stream",
          "text": [
            "Predicting...\n",
            "'predict' took 0.018263 s\n",
            "\n"
          ],
          "name": "stdout"
        },
        {
          "output_type": "display_data",
          "data": {
            "image/png": "[encoded data removed]",
            "text/plain": [
              "<Figure size 432x288 with 1 Axes>"
            ]
          },
          "metadata": {
            "tags": [],
            "needs_background": "light"
          }
        }
      ]
    }
  ]
}